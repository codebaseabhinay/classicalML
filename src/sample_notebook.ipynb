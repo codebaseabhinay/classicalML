{
 "cells": [
  {
   "cell_type": "markdown",
   "id": "ba0482e9",
   "metadata": {},
   "source": [
    "# Data Science Project Setup & Common Usage Instructions\n",
    "\n",
    "Welcome! This notebook will guide you through setting up your Python data science environment and demonstrate common usage patterns with popular libraries."
   ]
  },
  {
   "cell_type": "markdown",
   "id": "606c46a6",
   "metadata": {},
   "source": [
    "## 1. Install Required Packages\n",
    "\n",
    "Before starting, ensure all required packages are installed. Run the following command in your terminal:\n",
    "\n",
    "```sh\n",
    "pip install -r requirements.txt\n",
    "```"
   ]
  },
  {
   "cell_type": "markdown",
   "id": "9dc6539e",
   "metadata": {},
   "source": [
    "## 2. Launch Jupyter Notebook\n",
    "\n",
    "To start the Jupyter Notebook server, run this command in your terminal:\n",
    "\n",
    "```sh\n",
    "jupyter notebook\n",
    "```\n",
    "\n",
    "This will open the Jupyter interface in your web browser."
   ]
  },
  {
   "cell_type": "markdown",
   "id": "4487e810",
   "metadata": {},
   "source": [
    "## 3. Create a New Notebook\n",
    "\n",
    "In the Jupyter interface, click on `New` > `Python 3` to create a new notebook."
   ]
  },
  {
   "cell_type": "code",
   "execution_count": 1,
   "id": "2b2c2df2",
   "metadata": {},
   "outputs": [
    {
     "name": "stderr",
     "output_type": "stream",
     "text": [
      "Matplotlib is building the font cache; this may take a moment.\n"
     ]
    }
   ],
   "source": [
    "# 4. Import Common Libraries\n",
    "import numpy as np\n",
    "import pandas as pd\n",
    "import matplotlib.pyplot as plt\n",
    "import seaborn as sns\n",
    "from sklearn import datasets"
   ]
  },
  {
   "cell_type": "code",
   "execution_count": null,
   "id": "bb4e0dcb",
   "metadata": {},
   "outputs": [],
   "source": [
    "# Check versions of the main libraries\n",
    "print('numpy:', np.__version__)\n",
    "print('pandas:', pd.__version__)\n",
    "print('matplotlib:', plt.matplotlib.__version__)\n",
    "print('seaborn:', sns.__version__)"
   ]
  },
  {
   "cell_type": "code",
   "execution_count": null,
   "id": "9b87ffac",
   "metadata": {},
   "outputs": [],
   "source": [
    "# Load a sample dataset (Iris) and basic exploration\n",
    "iris = datasets.load_iris(as_frame=True)\n",
    "df = iris['frame']\n",
    "df.head()"
   ]
  },
  {
   "cell_type": "code",
   "execution_count": null,
   "id": "f4544d3e",
   "metadata": {},
   "outputs": [],
   "source": [
    "# Basic data analysis and visualization\n",
    "print(df.describe())\n",
    "sns.pairplot(df, hue='target')\n",
    "plt.show()"
   ]
  }
 ],
 "metadata": {
  "kernelspec": {
   "display_name": ".venv",
   "language": "python",
   "name": "python3"
  },
  "language_info": {
   "codemirror_mode": {
    "name": "ipython",
    "version": 3
   },
   "file_extension": ".py",
   "mimetype": "text/x-python",
   "name": "python",
   "nbconvert_exporter": "python",
   "pygments_lexer": "ipython3",
   "version": "3.13.5"
  }
 },
 "nbformat": 4,
 "nbformat_minor": 5
}
